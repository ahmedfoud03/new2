{
  "nbformat": 4,
  "nbformat_minor": 0,
  "metadata": {
    "colab": {
      "provenance": [],
      "authorship_tag": "ABX9TyOQj0adlaVMZ+wk6wHnC49C"
    },
    "kernelspec": {
      "name": "python3",
      "display_name": "Python 3"
    },
    "language_info": {
      "name": "python"
    },
    "accelerator": "TPU"
  },
  "cells": [
    {
      "cell_type": "code",
      "execution_count": 2,
      "metadata": {
        "id": "ApcYNf1blL_-"
      },
      "outputs": [],
      "source": [
        "x=10\n",
        "y=20\n",
        "sum=x+y\n"
      ]
    }
  ]
}